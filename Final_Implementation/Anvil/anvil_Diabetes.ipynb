{
 "cells": [
  {
   "cell_type": "code",
   "execution_count": 1,
   "metadata": {},
   "outputs": [],
   "source": [
    "import anvil.server\n",
    "import numpy as np\n",
    "import joblib\n",
    "from sklearn.preprocessing import StandardScaler\n",
    "import warnings\n",
    "warnings.filterwarnings(\"ignore\")"
   ]
  },
  {
   "cell_type": "code",
   "execution_count": 2,
   "metadata": {},
   "outputs": [
    {
     "name": "stdout",
     "output_type": "stream",
     "text": [
      "Connecting to wss://anvil.works/uplink\n",
      "Anvil websocket open\n",
      "Connected to \"Diabetes Prediction\" as SERVER\n"
     ]
    },
    {
     "name": "stderr",
     "output_type": "stream",
     "text": [
      "C:\\Users\\Vaibhav\\anaconda3\\lib\\site-packages\\sklearn\\base.py:324: UserWarning: Trying to unpickle estimator LogisticRegression from version 0.24.2 when using version 1.0.1. This might lead to breaking code or invalid results. Use at your own risk. For more info please refer to:\n",
      "https://scikit-learn.org/stable/modules/model_persistence.html#security-maintainability-limitations\n",
      "  warnings.warn(\n",
      "C:\\Users\\Vaibhav\\anaconda3\\lib\\site-packages\\sklearn\\base.py:324: UserWarning: Trying to unpickle estimator GridSearchCV from version 0.24.2 when using version 1.0.1. This might lead to breaking code or invalid results. Use at your own risk. For more info please refer to:\n",
      "https://scikit-learn.org/stable/modules/model_persistence.html#security-maintainability-limitations\n",
      "  warnings.warn(\n",
      "C:\\Users\\Vaibhav\\anaconda3\\lib\\site-packages\\sklearn\\base.py:324: UserWarning: Trying to unpickle estimator KNeighborsClassifier from version 0.24.2 when using version 1.0.1. This might lead to breaking code or invalid results. Use at your own risk. For more info please refer to:\n",
      "https://scikit-learn.org/stable/modules/model_persistence.html#security-maintainability-limitations\n",
      "  warnings.warn(\n"
     ]
    }
   ],
   "source": [
    "anvil.server.connect(\"server_N7UXUV6D4TVOI3YLXC4MA5B6-35JWJSTS2QJ6XGDG\")\n",
    "lr = joblib.load(\"../Models/Diabetes/lr.joblib\") \n",
    "knn = joblib.load(\"../Models/Diabetes/knn.joblib\")"
   ]
  },
  {
   "cell_type": "code",
   "execution_count": 3,
   "metadata": {},
   "outputs": [],
   "source": [
    "@anvil.server.callable\n",
    "def classify_data(info):\n",
    "    value = info.split(',')\n",
    "\n",
    "    int_list = value[0:5]\n",
    "    float_list = value[5:7]\n",
    "    int_list_2 = value[7]\n",
    "\n",
    "\n",
    "    i = [int(i) for i in int_list]\n",
    "    f = [float(i) for i in float_list]\n",
    "    i_2 = [int(int_list_2)]\n",
    "    live_data = i + f + i_2\n",
    "    live_data=np.array(live_data).reshape(1, 8)\n",
    "\n",
    "    sc = StandardScaler()\n",
    "    sc.fit(live_data)\n",
    "    live_data_lr = sc.transform(live_data)\n",
    "\n",
    "    KNN = knn.predict(live_data)\n",
    "    LR = lr.predict(live_data_lr)\n",
    "    prob_LR = lr.predict_proba(live_data_lr)\n",
    "    proba_LR = \"%.2f\" % (prob_LR[0][1] * 100)\n",
    "     \n",
    "    print(KNN)\n",
    "    print(LR)\n",
    "    print(\"==========\")\n",
    "    r = (str(KNN[0])+\",\"+ \n",
    "          str(LR[0])+\",\"+\n",
    "          str(proba_LR))\n",
    "    return r"
   ]
  },
  {
   "cell_type": "code",
   "execution_count": null,
   "metadata": {},
   "outputs": [],
   "source": []
  }
 ],
 "metadata": {
  "interpreter": {
   "hash": "3e0691aa25cb63eeee28f02db5d562343fd1d0ef1354dbfbd0693463ea7fc0ce"
  },
  "kernelspec": {
   "display_name": "Python 3.9.7 ('heart_env')",
   "language": "python",
   "name": "python3"
  },
  "language_info": {
   "codemirror_mode": {
    "name": "ipython",
    "version": 3
   },
   "file_extension": ".py",
   "mimetype": "text/x-python",
   "name": "python",
   "nbconvert_exporter": "python",
   "pygments_lexer": "ipython3",
   "version": "3.8.8"
  },
  "orig_nbformat": 4
 },
 "nbformat": 4,
 "nbformat_minor": 2
}
