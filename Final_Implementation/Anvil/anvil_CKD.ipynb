{
 "cells": [
  {
   "cell_type": "code",
   "execution_count": 1,
   "metadata": {},
   "outputs": [],
   "source": [
    "import anvil.server\n",
    "import numpy as np\n",
    "import joblib\n",
    "import warnings\n",
    "warnings.filterwarnings(\"ignore\")\n"
   ]
  },
  {
   "cell_type": "code",
   "execution_count": 2,
   "metadata": {},
   "outputs": [
    {
     "name": "stdout",
     "output_type": "stream",
     "text": [
      "Connecting to wss://anvil.works/uplink\n",
      "Anvil websocket open\n",
      "Connected to \"Default environment\" as SERVER\n"
     ]
    },
    {
     "name": "stderr",
     "output_type": "stream",
     "text": [
      "C:\\Users\\Vaibhav\\anaconda3\\lib\\site-packages\\sklearn\\base.py:324: UserWarning: Trying to unpickle estimator LogisticRegression from version 0.24.2 when using version 1.0.1. This might lead to breaking code or invalid results. Use at your own risk. For more info please refer to:\n",
      "https://scikit-learn.org/stable/modules/model_persistence.html#security-maintainability-limitations\n",
      "  warnings.warn(\n",
      "C:\\Users\\Vaibhav\\anaconda3\\lib\\site-packages\\sklearn\\base.py:324: UserWarning: Trying to unpickle estimator DecisionTreeClassifier from version 0.24.2 when using version 1.0.1. This might lead to breaking code or invalid results. Use at your own risk. For more info please refer to:\n",
      "https://scikit-learn.org/stable/modules/model_persistence.html#security-maintainability-limitations\n",
      "  warnings.warn(\n",
      "C:\\Users\\Vaibhav\\anaconda3\\lib\\site-packages\\sklearn\\base.py:324: UserWarning: Trying to unpickle estimator RandomForestClassifier from version 0.24.2 when using version 1.0.1. This might lead to breaking code or invalid results. Use at your own risk. For more info please refer to:\n",
      "https://scikit-learn.org/stable/modules/model_persistence.html#security-maintainability-limitations\n",
      "  warnings.warn(\n"
     ]
    }
   ],
   "source": [
    "import anvil.server\n",
    "anvil.server.connect(\"QRZCQ3QH7SLYOCHUSTJFNE3M-Y2SPZQIT4UYB7OJF\")\n",
    "lr_clf = joblib.load(\"../Models/CKD/lr_ckd.joblib\")\n",
    "rf_clf = joblib.load(\"../Models/CKD/rf_ckd.joblib\")"
   ]
  },
  {
   "cell_type": "code",
   "execution_count": 3,
   "metadata": {},
   "outputs": [],
   "source": [
    "@anvil.server.callable\n",
    "def classify_data(info):\n",
    "    value = info.split(',')\n",
    "    print(value)\n",
    "\n",
    "    input_data = [float(i) for i in value]\n",
    "    input_data_array = np.asarray(input_data)\n",
    "    input_data_reshape = input_data_array.reshape(1,-1)\n",
    "\n",
    "    prediction_rf = rf_clf.predict(input_data_reshape)\n",
    "    prediction_lr = lr_clf.predict(input_data_reshape)\n",
    "\n",
    "    proba_rf = rf_clf.predict_proba(np.array(input_data_reshape))\n",
    "    proba_rf = \"%.2f\" % (proba_rf[0][1] * 100)\n",
    "    \n",
    "    proba_lr = lr_clf.predict_proba(np.array(input_data_reshape))\n",
    "    proba_lr = \"%.2f\" % (proba_lr[0][1] * 100)\n",
    "\n",
    "    s = str(prediction_rf) + ',' + str(prediction_lr) + ',' + str(proba_rf) + ',' + str(proba_lr)\n",
    "    return s"
   ]
  },
  {
   "cell_type": "code",
   "execution_count": null,
   "metadata": {},
   "outputs": [],
   "source": []
  }
 ],
 "metadata": {
  "interpreter": {
   "hash": "3e0691aa25cb63eeee28f02db5d562343fd1d0ef1354dbfbd0693463ea7fc0ce"
  },
  "kernelspec": {
   "display_name": "Python 3.9.7 ('heart_env')",
   "language": "python",
   "name": "python3"
  },
  "language_info": {
   "codemirror_mode": {
    "name": "ipython",
    "version": 3
   },
   "file_extension": ".py",
   "mimetype": "text/x-python",
   "name": "python",
   "nbconvert_exporter": "python",
   "pygments_lexer": "ipython3",
   "version": "3.8.8"
  },
  "orig_nbformat": 4
 },
 "nbformat": 4,
 "nbformat_minor": 2
}
