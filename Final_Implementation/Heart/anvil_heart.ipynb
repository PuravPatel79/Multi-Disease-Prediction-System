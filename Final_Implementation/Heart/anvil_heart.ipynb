{
 "cells": [
  {
   "cell_type": "code",
   "execution_count": 10,
   "metadata": {},
   "outputs": [],
   "source": [
    "import anvil.server\n",
    "import numpy as np\n",
    "import joblib\n",
    "\n",
    "anvil.server.connect(\"server_JAYLNQTDETB2NC6SSGBLHBME-L2G3IIM2SKJUWR4P\")"
   ]
  },
  {
   "cell_type": "code",
   "execution_count": 11,
   "metadata": {},
   "outputs": [],
   "source": [
    "model_tree = joblib.load(\"./model/tree_heart.joblib\")\n",
    "model_rf = joblib.load(\"./model/rf_heart.joblib\")"
   ]
  },
  {
   "cell_type": "code",
   "execution_count": 12,
   "metadata": {},
   "outputs": [
    {
     "name": "stderr",
     "output_type": "stream",
     "text": [
      "C:\\Users\\Purav\\.conda\\envs\\heart_env\\lib\\site-packages\\sklearn\\base.py:450: UserWarning: X does not have valid feature names, but RandomForestClassifier was fitted with feature names\n",
      "  warnings.warn(\n",
      "C:\\Users\\Purav\\.conda\\envs\\heart_env\\lib\\site-packages\\sklearn\\base.py:450: UserWarning: X does not have valid feature names, but RandomForestClassifier was fitted with feature names\n",
      "  warnings.warn(\n",
      "C:\\Users\\Purav\\.conda\\envs\\heart_env\\lib\\site-packages\\sklearn\\base.py:450: UserWarning: X does not have valid feature names, but RandomForestClassifier was fitted with feature names\n",
      "  warnings.warn(\n",
      "C:\\Users\\Purav\\.conda\\envs\\heart_env\\lib\\site-packages\\sklearn\\base.py:450: UserWarning: X does not have valid feature names, but RandomForestClassifier was fitted with feature names\n",
      "  warnings.warn(\n",
      "C:\\Users\\Purav\\.conda\\envs\\heart_env\\lib\\site-packages\\sklearn\\base.py:450: UserWarning: X does not have valid feature names, but RandomForestClassifier was fitted with feature names\n",
      "  warnings.warn(\n"
     ]
    },
    {
     "name": "stdout",
     "output_type": "stream",
     "text": [
      "Anvil websocket closed (code 1006, reason=Going away)\n",
      "Reconnecting Anvil Uplink...\n",
      "Connecting to wss://anvil.works/uplink\n",
      "Anvil websocket open\n",
      "Connected to \"Default Environment\" as SERVER\n"
     ]
    }
   ],
   "source": [
    "@anvil.server.callable\n",
    "def classify_data(info):\n",
    "    input_data = info\n",
    "    input_data_array = np.asarray(input_data)\n",
    "    input_data_reshape = input_data_array.reshape(1,-1)\n",
    "    prediction_rf = model_rf.predict(input_data_reshape)\n",
    "    prediction_tree = model_tree.predict(input_data_reshape)\n",
    "    proba_tree = model_tree.predict_proba(np.array(input_data_reshape))\n",
    "    proba_tree = \"%.2f\" % (proba_tree[0][1] * 100)\n",
    "    proba_rf = model_rf.predict_proba(np.array(input_data_reshape))\n",
    "    proba_rf = \"%.2f\" % (proba_rf[0][1] * 100)\n",
    "    print(prediction_tree)\n",
    "    print(prediction_rf)\n",
    "    s = str(prediction_rf) + ',' + str(prediction_tree) + ',' + str(proba_rf) + ',' + str(proba_tree)\n",
    "    return s"
   ]
  }
 ],
 "metadata": {
  "interpreter": {
   "hash": "3e0691aa25cb63eeee28f02db5d562343fd1d0ef1354dbfbd0693463ea7fc0ce"
  },
  "kernelspec": {
   "display_name": "Python 3.9.7 ('heart_env')",
   "language": "python",
   "name": "python3"
  },
  "language_info": {
   "codemirror_mode": {
    "name": "ipython",
    "version": 3
   },
   "file_extension": ".py",
   "mimetype": "text/x-python",
   "name": "python",
   "nbconvert_exporter": "python",
   "pygments_lexer": "ipython3",
   "version": "3.9.7"
  },
  "orig_nbformat": 4
 },
 "nbformat": 4,
 "nbformat_minor": 2
}
